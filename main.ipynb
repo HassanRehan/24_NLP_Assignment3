{
 "cells": [
  {
   "cell_type": "markdown",
   "id": "65625a00-1790-4f2a-b24a-79bf59c9ec3f",
   "metadata": {},
   "source": [
    "# Setup"
   ]
  },
  {
   "cell_type": "code",
   "execution_count": null,
   "id": "b5bfa842-0087-4366-8286-9a4e59912898",
   "metadata": {},
   "outputs": [
    {
     "name": "stdout",
     "output_type": "stream",
     "text": [
      "--2024-05-16 15:54:35--  https://huggingface.co/stanfordnlp/glove/resolve/main/glove.840B.300d.zip\n",
      "Resolving huggingface.co (huggingface.co)... 108.158.20.70, 108.158.20.65, 108.158.20.78, ...\n",
      "Connecting to huggingface.co (huggingface.co)|108.158.20.70|:443... connected.\n",
      "HTTP request sent, awaiting response... 302 Found\n",
      "Location: https://cdn-lfs.huggingface.co/stanfordnlp/glove/f47355dd5b267bd10f08671e513790690233c76a9ffd73aa915d78f894a8912e?response-content-disposition=attachment%3B+filename*%3DUTF-8%27%27glove.840B.300d.zip%3B+filename%3D%22glove.840B.300d.zip%22%3B&response-content-type=application%2Fzip&Expires=1716134075&Policy=eyJTdGF0ZW1lbnQiOlt7IkNvbmRpdGlvbiI6eyJEYXRlTGVzc1RoYW4iOnsiQVdTOkVwb2NoVGltZSI6MTcxNjEzNDA3NX19LCJSZXNvdXJjZSI6Imh0dHBzOi8vY2RuLWxmcy5odWdnaW5nZmFjZS5jby9zdGFuZm9yZG5scC9nbG92ZS9mNDczNTVkZDViMjY3YmQxMGYwODY3MWU1MTM3OTA2OTAyMzNjNzZhOWZmZDczYWE5MTVkNzhmODk0YTg5MTJlP3Jlc3BvbnNlLWNvbnRlbnQtZGlzcG9zaXRpb249KiZyZXNwb25zZS1jb250ZW50LXR5cGU9KiJ9XX0_&Signature=PjIlGq1enA2%7EIA26128mFfy2ArO60oMXYqFhhzrzxMkNEphHqD4beHT%7EvWwcdn2d-DxDKmTO2BlP9pd7jiZemi3z4LOBAcY-7ihVuA2XXSqHe0sYBmbjylsI4SUVzBRidjNpDxg6YuRKdfwYmBZ9oABad1vpfsGLEVqQ-s-oZ0tFOmx5BqksD0lQcXCG351eR%7E4VUojxeTCt9OWibtPC96rnwRJkPgQqWPY14nG%7EwQm5QeIKjHftksR9-AJRfPCpr5sWdW%7Ehilo66m4X0kijdmx4chI-at5T-Ysl0WvdRNkScCg8Yaz96XUM%7EPMN93Y1Q0JKC8KFNfbRFgiw%7EIRuVA__&Key-Pair-Id=KVTP0A1DKRTAX [following]\n",
      "--2024-05-16 15:54:35--  https://cdn-lfs.huggingface.co/stanfordnlp/glove/f47355dd5b267bd10f08671e513790690233c76a9ffd73aa915d78f894a8912e?response-content-disposition=attachment%3B+filename*%3DUTF-8%27%27glove.840B.300d.zip%3B+filename%3D%22glove.840B.300d.zip%22%3B&response-content-type=application%2Fzip&Expires=1716134075&Policy=eyJTdGF0ZW1lbnQiOlt7IkNvbmRpdGlvbiI6eyJEYXRlTGVzc1RoYW4iOnsiQVdTOkVwb2NoVGltZSI6MTcxNjEzNDA3NX19LCJSZXNvdXJjZSI6Imh0dHBzOi8vY2RuLWxmcy5odWdnaW5nZmFjZS5jby9zdGFuZm9yZG5scC9nbG92ZS9mNDczNTVkZDViMjY3YmQxMGYwODY3MWU1MTM3OTA2OTAyMzNjNzZhOWZmZDczYWE5MTVkNzhmODk0YTg5MTJlP3Jlc3BvbnNlLWNvbnRlbnQtZGlzcG9zaXRpb249KiZyZXNwb25zZS1jb250ZW50LXR5cGU9KiJ9XX0_&Signature=PjIlGq1enA2%7EIA26128mFfy2ArO60oMXYqFhhzrzxMkNEphHqD4beHT%7EvWwcdn2d-DxDKmTO2BlP9pd7jiZemi3z4LOBAcY-7ihVuA2XXSqHe0sYBmbjylsI4SUVzBRidjNpDxg6YuRKdfwYmBZ9oABad1vpfsGLEVqQ-s-oZ0tFOmx5BqksD0lQcXCG351eR%7E4VUojxeTCt9OWibtPC96rnwRJkPgQqWPY14nG%7EwQm5QeIKjHftksR9-AJRfPCpr5sWdW%7Ehilo66m4X0kijdmx4chI-at5T-Ysl0WvdRNkScCg8Yaz96XUM%7EPMN93Y1Q0JKC8KFNfbRFgiw%7EIRuVA__&Key-Pair-Id=KVTP0A1DKRTAX\n",
      "Resolving cdn-lfs.huggingface.co (cdn-lfs.huggingface.co)... 18.155.68.98, 18.155.68.73, 18.155.68.128, ...\n",
      "Connecting to cdn-lfs.huggingface.co (cdn-lfs.huggingface.co)|18.155.68.98|:443... connected.\n",
      "HTTP request sent, awaiting response... 200 OK\n",
      "Length: 2176768976 (2.0G) [application/zip]\n",
      "Saving to: ‘glove.840B.300d.zip’\n",
      "\n",
      "glove.840B.300d.zip  98%[==================> ]   2.00G  15.0MB/s    eta 2s     "
     ]
    }
   ],
   "source": [
    "!wget https://huggingface.co/stanfordnlp/glove/resolve/main/glove.840B.300d.zip"
   ]
  },
  {
   "cell_type": "code",
   "execution_count": null,
   "id": "58f11eba-8259-4547-bc61-5e531a4e85f5",
   "metadata": {},
   "outputs": [],
   "source": [
    "!wget https://huggingface.co/stanfordnlp/glove/resolve/main/glove.6B.zip"
   ]
  },
  {
   "cell_type": "code",
   "execution_count": null,
   "id": "9bcc5d64-787c-4ce7-9588-4944dd00ef6f",
   "metadata": {},
   "outputs": [],
   "source": [
    "!wget https://huggingface.co/stanfordnlp/glove/resolve/main/glove.twitter.27B.zip"
   ]
  },
  {
   "cell_type": "code",
   "execution_count": null,
   "id": "3d58b8dc-7e67-4d62-9a67-f5a1afe28c09",
   "metadata": {},
   "outputs": [],
   "source": [
    "!unzip glove.6B.zip"
   ]
  },
  {
   "cell_type": "code",
   "execution_count": null,
   "id": "7be77805-3b2d-4ef2-9682-80fd05849d75",
   "metadata": {},
   "outputs": [],
   "source": [
    "!unzip glove.twitter.27B.zip"
   ]
  }
 ],
 "metadata": {
  "kernelspec": {
   "display_name": "Python 3 (ipykernel)",
   "language": "python",
   "name": "python3"
  },
  "language_info": {
   "codemirror_mode": {
    "name": "ipython",
    "version": 3
   },
   "file_extension": ".py",
   "mimetype": "text/x-python",
   "name": "python",
   "nbconvert_exporter": "python",
   "pygments_lexer": "ipython3",
   "version": "3.10.13"
  }
 },
 "nbformat": 4,
 "nbformat_minor": 5
}
