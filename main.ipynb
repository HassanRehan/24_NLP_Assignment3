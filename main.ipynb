{
 "cells": [
  {
   "cell_type": "markdown",
   "id": "6d8ee5ce",
   "metadata": {},
   "source": [
    "# Setup"
   ]
  },
  {
   "cell_type": "markdown",
   "id": "43753a40",
   "metadata": {
    "jp-MarkdownHeadingCollapsed": true
   },
   "source": [
    "## Download Pretrained Embeddings"
   ]
  },
  {
   "cell_type": "markdown",
   "id": "9bac244f",
   "metadata": {},
   "source": [
    "### Glove"
   ]
  },
  {
   "cell_type": "code",
   "execution_count": null,
   "id": "b5bfa842-0087-4366-8286-9a4e59912898",
   "metadata": {},
   "outputs": [],
   "source": [
    "!wget https://huggingface.co/stanfordnlp/glove/resolve/main/glove.840B.300d.zip"
   ]
  },
  {
   "cell_type": "code",
   "execution_count": null,
   "id": "58f11eba-8259-4547-bc61-5e531a4e85f5",
   "metadata": {},
   "outputs": [],
   "source": [
    "!wget https://huggingface.co/stanfordnlp/glove/resolve/main/glove.6B.zip"
   ]
  },
  {
   "cell_type": "code",
   "execution_count": null,
   "id": "9bcc5d64-787c-4ce7-9588-4944dd00ef6f",
   "metadata": {},
   "outputs": [],
   "source": [
    "!wget https://huggingface.co/stanfordnlp/glove/resolve/main/glove.twitter.27B.zip"
   ]
  },
  {
   "cell_type": "code",
   "execution_count": null,
   "id": "a785b122-bb90-4cbb-8338-e081863b868d",
   "metadata": {},
   "outputs": [],
   "source": [
    "!unzip glove.840B.300d.zip"
   ]
  },
  {
   "cell_type": "code",
   "execution_count": null,
   "id": "3d58b8dc-7e67-4d62-9a67-f5a1afe28c09",
   "metadata": {},
   "outputs": [],
   "source": [
    "!unzip glove.6B.zip"
   ]
  },
  {
   "cell_type": "code",
   "execution_count": null,
   "id": "7be77805-3b2d-4ef2-9682-80fd05849d75",
   "metadata": {},
   "outputs": [],
   "source": [
    "!unzip glove.twitter.27B.zip"
   ]
  },
  {
   "cell_type": "markdown",
   "id": "ef341cce",
   "metadata": {},
   "source": [
    "### Word2Vec"
   ]
  },
  {
   "cell_type": "code",
   "execution_count": null,
   "id": "bee736db",
   "metadata": {},
   "outputs": [],
   "source": [
    "!wget https://github.com/piskvorky/gensim-data/releases/download/word2vec-google-news-300/word2vec-google-news-300.gz"
   ]
  },
  {
   "cell_type": "code",
   "execution_count": null,
   "id": "ad317b55",
   "metadata": {},
   "outputs": [],
   "source": [
    "!gzip -d word2vec-google-news-300.gz"
   ]
  },
  {
   "cell_type": "markdown",
   "id": "2329d916",
   "metadata": {},
   "source": [
    "### FastText"
   ]
  },
  {
   "cell_type": "code",
   "execution_count": null,
   "id": "bd540e31",
   "metadata": {},
   "outputs": [],
   "source": [
    "!wget https://dl.fbaipublicfiles.com/fasttext/vectors-english/wiki-news-300d-1M.vec.zip"
   ]
  },
  {
   "cell_type": "code",
   "execution_count": null,
   "id": "11984dcc",
   "metadata": {},
   "outputs": [],
   "source": [
    "!unzip wiki-news-300d-1M.vec.zip"
   ]
  },
  {
   "cell_type": "markdown",
   "id": "2e58da11",
   "metadata": {},
   "source": [
    "## Python Imports"
   ]
  },
  {
   "cell_type": "code",
   "execution_count": 13,
   "id": "0bc65338",
   "metadata": {},
   "outputs": [],
   "source": [
    "from keras.models import Sequential\n",
    "from keras.models import load_model\n",
    "from keras.layers import Embedding, Flatten, Dense\n",
    "from keras.layers import GlobalAveragePooling1D\n",
    "\n",
    "from tensorflow.keras.preprocessing.text import Tokenizer\n",
    "from tensorflow.keras.preprocessing.sequence import pad_sequences\n",
    "\n",
    "import pandas as pd\n",
    "import numpy as np\n",
    "\n",
    "import matplotlib.pyplot as plt\n",
    "\n",
    "from gensim.models import KeyedVectors"
   ]
  },
  {
   "cell_type": "markdown",
   "id": "d563b3ea",
   "metadata": {},
   "source": [
    "## Global Funtions/Variables"
   ]
  },
  {
   "cell_type": "code",
   "execution_count": null,
   "id": "5e448429",
   "metadata": {},
   "outputs": [],
   "source": [
    "# \"Tried and tested competition values\n",
    "globalEpoch = 4\n",
    "globalBatchSize = 32"
   ]
  },
  {
   "cell_type": "code",
   "execution_count": 9,
   "id": "ec100143",
   "metadata": {},
   "outputs": [],
   "source": [
    "def load_glove_vectors(glove_file):\n",
    "    embeddings = {}\n",
    "    with open(glove_file, 'r', encoding='utf-8') as f:\n",
    "        for line in f:\n",
    "            values = line.split()\n",
    "            word = values[0]\n",
    "            vector = np.asarray(values[1:], dtype='float32')\n",
    "            embeddings[word] = vector\n",
    "    return embeddings"
   ]
  },
  {
   "cell_type": "code",
   "execution_count": 4,
   "id": "01b33390",
   "metadata": {},
   "outputs": [],
   "source": [
    "def plot_history(history):\n",
    "    # Plot training & validation accuracy values\n",
    "    plt.figure(figsize=(12, 6))\n",
    "    plt.subplot(1, 2, 1)\n",
    "    plt.plot(history.history['acc'])\n",
    "    plt.plot(history.history['val_acc'])\n",
    "    plt.title('Model accuracy')\n",
    "    plt.ylabel('Accuracy')\n",
    "    plt.xlabel('Epoch')\n",
    "    plt.legend(['Train', 'Validation'], loc='upper left')\n",
    "\n",
    "    # Plot training & validation loss values\n",
    "    plt.subplot(1, 2, 2)\n",
    "    plt.plot(history.history['loss'])\n",
    "    plt.plot(history.history['val_loss'])\n",
    "    plt.title('Model loss')\n",
    "    plt.ylabel('Loss')\n",
    "    plt.xlabel('Epoch')\n",
    "    plt.legend(['Train', 'Validation'], loc='upper left')\n",
    "\n",
    "    plt.tight_layout()\n",
    "    plt.show()\n"
   ]
  },
  {
   "cell_type": "markdown",
   "id": "bdf1b70a",
   "metadata": {},
   "source": [
    "# Prepare Dataset"
   ]
  },
  {
   "cell_type": "code",
   "execution_count": 5,
   "id": "61c7a435",
   "metadata": {},
   "outputs": [],
   "source": [
    "# Load the train dataset\n",
    "train_df = pd.read_csv('dataset/train.csv')\n",
    "\n",
    "# Load the test dataset\n",
    "test_df = pd.read_csv('dataset/test.csv')\n",
    "\n",
    "# Load the test labels\n",
    "test_labels_df = pd.read_csv('dataset/test_labels.csv')\n",
    "\n",
    "# Filter out rows in test_labels where all label columns are -1\n",
    "mask = (test_labels_df[['toxic', 'severe_toxic', 'obscene', 'threat', 'insult', 'identity_hate']] == -1).all(axis=1)\n",
    "test_labels_df = test_labels_df[~mask]\n",
    "\n",
    "# Now join test_df and test_labels_df on 'id' to get the final test dataset\n",
    "test_df = pd.merge(test_df, test_labels_df, on='id')"
   ]
  },
  {
   "cell_type": "code",
   "execution_count": 6,
   "id": "1a50d3f0",
   "metadata": {},
   "outputs": [],
   "source": [
    "# Access the 'comment_text' column in the train dataset\n",
    "train_text = train_df['comment_text'].astype(str)\n",
    "\n",
    "# Access the 'comment_text' column in the test dataset\n",
    "test_text = test_df['comment_text'].astype(str)\n",
    "\n",
    "# Access the labels in the train dataset\n",
    "train_labels = train_df[['toxic', 'severe_toxic', 'obscene', 'threat', 'insult', 'identity_hate']]\n",
    "\n",
    "# Access the labels in the test dataset\n",
    "test_labels = test_labels_df[['toxic', 'severe_toxic', 'obscene', 'threat', 'insult', 'identity_hate']]"
   ]
  },
  {
   "cell_type": "code",
   "execution_count": 7,
   "id": "21264c1b",
   "metadata": {},
   "outputs": [],
   "source": [
    "tokenizer = Tokenizer()\n",
    "\n",
    "# Fit the tokenizer on the text data (both train and test)\n",
    "# This will create the vocabulary index based on word frequency\n",
    "tokenizer.fit_on_texts(pd.concat([train_text, test_text]))\n",
    "\n",
    "# Transform each text in train_text to a sequence of integers with its corresponding integer value from the word_index dictionary\n",
    "train_sequences = tokenizer.texts_to_sequences(train_text)\n",
    "\n",
    "# Transform each text in test_text to a sequence of integers with its corresponding integer value from the word_index dictionary\n",
    "test_sequences = tokenizer.texts_to_sequences(test_text)\n",
    "\n",
    "# Transform each sequence in train_sequences to the same length\n",
    "# This is done by padding sequences that are shorter than the longest sequence, and truncating sequences that are longer\n",
    "train_data = pad_sequences(train_sequences)\n",
    "\n",
    "# Transform each sequence in test_sequences to the same length as the sequences in train_data\n",
    "# This is done by padding or truncating as necessary\n",
    "test_data = pad_sequences(test_sequences, maxlen=train_data.shape[1])\n",
    "\n",
    "word_index = tokenizer.word_index\n",
    "nb_words = len(tokenizer.word_index) + 1"
   ]
  },
  {
   "cell_type": "markdown",
   "id": "55eba039",
   "metadata": {},
   "source": [
    "# Glove"
   ]
  },
  {
   "cell_type": "code",
   "execution_count": 10,
   "id": "348fb0d1",
   "metadata": {},
   "outputs": [],
   "source": [
    "embeddings = load_glove_vectors(\"glove.6B.300d.txt\")\n",
    "embedding_dim = 300 \n",
    "\n",
    "embedding_matrix = np.zeros((nb_words, embedding_dim))\n",
    "\n",
    "for word, i in word_index.items():\n",
    "    if i >= nb_words:\n",
    "        continue\n",
    "    embedding_vector = embeddings.get(word)\n",
    "    if embedding_vector is not None:\n",
    "        embedding_matrix[i] = embedding_vector"
   ]
  },
  {
   "cell_type": "markdown",
   "id": "fdaba166",
   "metadata": {},
   "source": [
    "## Pre-trained"
   ]
  },
  {
   "cell_type": "code",
   "execution_count": 17,
   "id": "c65b3806",
   "metadata": {},
   "outputs": [
    {
     "name": "stdout",
     "output_type": "stream",
     "text": [
      "Model: \"sequential_3\"\n",
      "_________________________________________________________________\n",
      " Layer (type)                Output Shape              Param #   \n",
      "=================================================================\n",
      " embedding_3 (Embedding)     (None, None, 300)         93445500  \n",
      "                                                                 \n",
      " global_average_pooling1d_1   (None, 300)              0         \n",
      " (GlobalAveragePooling1D)                                        \n",
      "                                                                 \n",
      " dense_2 (Dense)             (None, 6)                 1806      \n",
      "                                                                 \n",
      "=================================================================\n",
      "Total params: 93,447,306\n",
      "Trainable params: 1,806\n",
      "Non-trainable params: 93,445,500\n",
      "_________________________________________________________________\n"
     ]
    }
   ],
   "source": [
    "model = Sequential()\n",
    "model.add(Embedding(nb_words, embedding_dim, weights=[embedding_matrix]))\n",
    "model.layers[0].trainable = False\n",
    "\n",
    "model.add(GlobalAveragePooling1D())\n",
    "model.add(Dense(6, activation='sigmoid'))\n",
    "\n",
    "model.compile(optimizer='adam', loss='binary_crossentropy', metrics=['acc'])\n",
    "model.summary()"
   ]
  },
  {
   "cell_type": "code",
   "execution_count": 18,
   "id": "f3d03e2b",
   "metadata": {},
   "outputs": [
    {
     "name": "stdout",
     "output_type": "stream",
     "text": [
      "Epoch 1/4\n",
      "4488/4488 [==============================] - 15s 3ms/step - loss: 0.2398 - acc: 0.9558 - val_loss: 0.1490 - val_acc: 0.9940\n",
      "Epoch 2/4\n",
      "4488/4488 [==============================] - 14s 3ms/step - loss: 0.1386 - acc: 0.9942 - val_loss: 0.1358 - val_acc: 0.9940\n",
      "Epoch 3/4\n",
      "4488/4488 [==============================] - 14s 3ms/step - loss: 0.1322 - acc: 0.9936 - val_loss: 0.1329 - val_acc: 0.9903\n",
      "Epoch 4/4\n",
      "4488/4488 [==============================] - 14s 3ms/step - loss: 0.1298 - acc: 0.9873 - val_loss: 0.1312 - val_acc: 0.9862\n",
      "2000/2000 [==============================] - 4s 2ms/step - loss: 0.1349 - acc: 0.9905\n",
      "Test accuracy: 0.9905436038970947\n"
     ]
    },
    {
     "data": {
      "image/png": "[encoded data removed]",
      "text/plain": [
       "<Figure size 1200x600 with 2 Axes>"
      ]
     },
     "metadata": {},
     "output_type": "display_data"
    }
   ],
   "source": [
    "history = model.fit(train_data, train_labels, epochs=globalEpoch, batch_size=globalBatchSize, validation_split=0.1)\n",
    "\n",
    "loss, accuracy = model.evaluate(test_data, test_labels)\n",
    "print(f'Test accuracy: {accuracy}')\n",
    "\n",
    "plot_history(history)\n",
    "\n",
    "model.save('glove-6B-300d-Pre-trained.keras')\n",
    "\n",
    "# # Load the model\n",
    "# loaded_model = load_model('path_to_my_model')"
   ]
  },
  {
   "cell_type": "markdown",
   "id": "d158fbb7",
   "metadata": {},
   "source": [
    "## Re-trained"
   ]
  },
  {
   "cell_type": "code",
   "execution_count": 19,
   "id": "290fa9fa",
   "metadata": {},
   "outputs": [
    {
     "name": "stdout",
     "output_type": "stream",
     "text": [
      "Model: \"sequential_4\"\n",
      "_________________________________________________________________\n",
      " Layer (type)                Output Shape              Param #   \n",
      "=================================================================\n",
      " embedding_4 (Embedding)     (None, None, 300)         93445500  \n",
      "                                                                 \n",
      " global_average_pooling1d_2   (None, 300)              0         \n",
      " (GlobalAveragePooling1D)                                        \n",
      "                                                                 \n",
      " dense_3 (Dense)             (None, 6)                 1806      \n",
      "                                                                 \n",
      "=================================================================\n",
      "Total params: 93,447,306\n",
      "Trainable params: 93,447,306\n",
      "Non-trainable params: 0\n",
      "_________________________________________________________________\n"
     ]
    }
   ],
   "source": [
    "model = Sequential()\n",
    "model.add(Embedding(nb_words, embedding_dim, weights=[embedding_matrix]))\n",
    "\n",
    "model.add(GlobalAveragePooling1D())\n",
    "model.add(Dense(6, activation='sigmoid'))\n",
    "\n",
    "model.compile(optimizer='adam', loss='binary_crossentropy', metrics=['acc'])\n",
    "model.summary()"
   ]
  },
  {
   "cell_type": "code",
   "execution_count": null,
   "id": "bddc4712",
   "metadata": {},
   "outputs": [
    {
     "name": "stdout",
     "output_type": "stream",
     "text": [
      "Epoch 1/4\n",
      "1320/4488 [=======>......................] - ETA: 1:05 - loss: 0.1560 - acc: 0.9634"
     ]
    }
   ],
   "source": [
    "history = model.fit(train_data, train_labels, epochs=globalEpoch, batch_size=globalBatchSize, validation_split=0.1)\n",
    "\n",
    "loss, accuracy = model.evaluate(test_data, test_labels)\n",
    "print(f'Test accuracy: {accuracy}')\n",
    "\n",
    "plot_history(history)\n",
    "\n",
    "model.save('glove-6B-300d-Re-trained.keras')\n",
    "\n",
    "# # Load the model\n",
    "# loaded_model = load_model('path_to_my_model')"
   ]
  },
  {
   "cell_type": "markdown",
   "id": "aee21855",
   "metadata": {},
   "source": [
    "# Word2Vec"
   ]
  },
  {
   "cell_type": "code",
   "execution_count": null,
   "id": "9fd19029",
   "metadata": {},
   "outputs": [],
   "source": [
    "word2vec = KeyedVectors.load_word2vec_format('word2vec-google-news-300', binary=True)\n",
    "embedding_dim = 300\n",
    "\n",
    "embedding_matrix = np.zeros((nb_words, embedding_dim))\n",
    "\n",
    "for word, i in word_index.items():\n",
    "    if i >= nb_words:\n",
    "        continue\n",
    "    if word in word2vec:\n",
    "        embedding_matrix[i] = word2vec[word]"
   ]
  },
  {
   "cell_type": "markdown",
   "id": "81f5af11",
   "metadata": {},
   "source": [
    "## Pre-trained"
   ]
  },
  {
   "cell_type": "code",
   "execution_count": null,
   "id": "5fcb62db",
   "metadata": {},
   "outputs": [],
   "source": [
    "model = Sequential()\n",
    "model.add(Embedding(nb_words, embedding_dim, weights=[embedding_matrix]))\n",
    "model.layers[0].trainable = False\n",
    "\n",
    "model.add(GlobalAveragePooling1D())\n",
    "model.add(Dense(6, activation='sigmoid'))\n",
    "\n",
    "model.compile(optimizer='adam', loss='binary_crossentropy', metrics=['acc'])\n",
    "model.summary()"
   ]
  },
  {
   "cell_type": "code",
   "execution_count": null,
   "id": "f5e849c8",
   "metadata": {},
   "outputs": [],
   "source": [
    "history = model.fit(train_data, train_labels, epochs=globalEpoch, batch_size=globalBatchSize, validation_split=0.1)\n",
    "\n",
    "loss, accuracy = model.evaluate(test_data, test_labels)\n",
    "print(f'Test accuracy: {accuracy}')\n",
    "\n",
    "plot_history(history)\n",
    "\n",
    "model.save('word2vec-google-news-300-Pre-trained.keras')\n",
    "\n",
    "# # Load the model\n",
    "# loaded_model = load_model('path_to_my_model')"
   ]
  },
  {
   "cell_type": "markdown",
   "id": "77f6439c",
   "metadata": {},
   "source": [
    "## Re-trained"
   ]
  },
  {
   "cell_type": "code",
   "execution_count": null,
   "id": "e233991e",
   "metadata": {},
   "outputs": [],
   "source": [
    "model = Sequential()\n",
    "model.add(Embedding(nb_words, embedding_dim, weights=[embedding_matrix]))\n",
    "\n",
    "model.add(GlobalAveragePooling1D())\n",
    "model.add(Dense(6, activation='sigmoid'))\n",
    "\n",
    "model.compile(optimizer='adam', loss='binary_crossentropy', metrics=['acc'])\n",
    "model.summary()"
   ]
  },
  {
   "cell_type": "code",
   "execution_count": null,
   "id": "3781ab5f",
   "metadata": {},
   "outputs": [],
   "source": [
    "history = model.fit(train_data, train_labels, epochs=globalEpoch, batch_size=globalBatchSize, validation_split=0.1)\n",
    "\n",
    "loss, accuracy = model.evaluate(test_data, test_labels)\n",
    "print(f'Test accuracy: {accuracy}')\n",
    "\n",
    "plot_history(history)\n",
    "\n",
    "model.save('word2vec-google-news-300-Re-trained.keras')\n",
    "\n",
    "# # Load the model\n",
    "# loaded_model = load_model('path_to_my_model')"
   ]
  },
  {
   "cell_type": "markdown",
   "id": "d45714d7",
   "metadata": {},
   "source": [
    "# FastText"
   ]
  },
  {
   "cell_type": "code",
   "execution_count": null,
   "id": "25317291",
   "metadata": {},
   "outputs": [],
   "source": [
    "fasttext = KeyedVectors.load_word2vec_format('wiki-news-300d-1M.vec')\n",
    "embedding_dim = 300\n",
    "\n",
    "embedding_matrix = np.zeros((nb_words, embedding_dim))\n",
    "\n",
    "for word, i in word_index.items():\n",
    "    if i >= nb_words:\n",
    "        continue\n",
    "    if word in fasttext:\n",
    "        embedding_matrix[i] = fasttext[word]"
   ]
  },
  {
   "cell_type": "markdown",
   "id": "b11157c5",
   "metadata": {},
   "source": [
    "## Pre-trained"
   ]
  },
  {
   "cell_type": "code",
   "execution_count": null,
   "id": "24c7450a",
   "metadata": {},
   "outputs": [],
   "source": [
    "model = Sequential()\n",
    "model.add(Embedding(nb_words, embedding_dim, weights=[embedding_matrix]))\n",
    "model.layers[0].trainable = False\n",
    "\n",
    "model.add(GlobalAveragePooling1D())\n",
    "model.add(Dense(6, activation='sigmoid'))\n",
    "\n",
    "model.compile(optimizer='adam', loss='binary_crossentropy', metrics=['acc'])\n",
    "model.summary()"
   ]
  },
  {
   "cell_type": "code",
   "execution_count": null,
   "id": "ae03fe4f",
   "metadata": {},
   "outputs": [],
   "source": [
    "history = model.fit(train_data, train_labels, epochs=globalEpoch, batch_size=globalBatchSize, validation_split=0.1)\n",
    "\n",
    "loss, accuracy = model.evaluate(test_data, test_labels)\n",
    "print(f'Test accuracy: {accuracy}')\n",
    "\n",
    "plot_history(history)\n",
    "\n",
    "model.save('wiki-news-300d-1M-Pre-trained.keras')\n",
    "\n",
    "# # Load the model\n",
    "# loaded_model = load_model('path_to_my_model')"
   ]
  },
  {
   "cell_type": "markdown",
   "id": "30016df8",
   "metadata": {},
   "source": [
    "## Re-trained"
   ]
  },
  {
   "cell_type": "code",
   "execution_count": null,
   "id": "8085e125",
   "metadata": {},
   "outputs": [],
   "source": [
    "model = Sequential()\n",
    "model.add(Embedding(nb_words, embedding_dim, weights=[embedding_matrix]))\n",
    "\n",
    "model.add(GlobalAveragePooling1D())\n",
    "model.add(Dense(6, activation='sigmoid'))\n",
    "\n",
    "model.compile(optimizer='adam', loss='binary_crossentropy', metrics=['acc'])\n",
    "model.summary()"
   ]
  },
  {
   "cell_type": "code",
   "execution_count": null,
   "id": "5fb34698",
   "metadata": {},
   "outputs": [],
   "source": [
    "history = model.fit(train_data, train_labels, epochs=globalEpoch, batch_size=globalBatchSize, validation_split=0.1)\n",
    "\n",
    "loss, accuracy = model.evaluate(test_data, test_labels)\n",
    "print(f'Test accuracy: {accuracy}')\n",
    "\n",
    "plot_history(history)\n",
    "\n",
    "model.save('wiki-news-300d-1M-Re-trained.keras')\n",
    "\n",
    "# # Load the model\n",
    "# loaded_model = load_model('path_to_my_model')"
   ]
  }
 ],
 "metadata": {
  "kernelspec": {
   "display_name": "Python 3 (ipykernel)",
   "language": "python",
   "name": "python3"
  },
  "language_info": {
   "codemirror_mode": {
    "name": "ipython",
    "version": 3
   },
   "file_extension": ".py",
   "mimetype": "text/x-python",
   "name": "python",
   "nbconvert_exporter": "python",
   "pygments_lexer": "ipython3",
   "version": "3.9.19"
  }
 },
 "nbformat": 4,
 "nbformat_minor": 5
}
